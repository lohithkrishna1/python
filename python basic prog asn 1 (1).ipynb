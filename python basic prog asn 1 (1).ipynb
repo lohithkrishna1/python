{
 "cells": [
  {
   "cell_type": "code",
   "execution_count": 1,
   "metadata": {},
   "outputs": [
    {
     "name": "stdout",
     "output_type": "stream",
     "text": [
      "Hello Python\n"
     ]
    }
   ],
   "source": [
    "#1Q\n",
    "print(\"Hello Python\")"
   ]
  },
  {
   "cell_type": "code",
   "execution_count": 2,
   "metadata": {},
   "outputs": [
    {
     "name": "stdout",
     "output_type": "stream",
     "text": [
      "6\n",
      "1.0\n"
     ]
    }
   ],
   "source": [
    "#2Q\n",
    "a=3\n",
    "b=3\n",
    "a1=a+b\n",
    "b=a/b\n",
    "print(a1)\n",
    "print(b)"
   ]
  },
  {
   "cell_type": "code",
   "execution_count": 5,
   "metadata": {},
   "outputs": [
    {
     "name": "stdout",
     "output_type": "stream",
     "text": [
      "enter the base of the triangle2\n",
      "enter the height of the triangle2\n",
      "Area of triangle = 2.0\n"
     ]
    }
   ],
   "source": [
    "#3Q\n",
    "b=int(input(\"enter the base of the triangle\"))\n",
    "h=int(input(\"enter the height of the triangle\"))\n",
    "a=(b*h)/2\n",
    "print(\"Area of triangle =\",a)"
   ]
  },
  {
   "cell_type": "code",
   "execution_count": null,
   "metadata": {},
   "outputs": [],
   "source": [
    "#3Q , if dont the height and base for area of the triangle\n",
    "a=float(input(\"enter the value of a\"))\n",
    "b=float(input(\"enter the value of b\"))\n",
    "c=float(input(\"enter the value of c\"))\n",
    "s=(a+b+c)//2\n",
    "area=(s*(s-a)*(s-b)*(s-c))**0.5\n",
    "print(\"area of the triangle=\",area)"
   ]
  },
  {
   "cell_type": "code",
   "execution_count": 7,
   "metadata": {},
   "outputs": [
    {
     "name": "stdout",
     "output_type": "stream",
     "text": [
      "value of the x= 5\n",
      "value of the y= 3\n"
     ]
    }
   ],
   "source": [
    "#4Q\n",
    "x=3\n",
    "y=5\n",
    "x,y=y,x\n",
    "print(\"value of the x=\",x)\n",
    "print(\"value of the y=\",y)"
   ]
  },
  {
   "cell_type": "code",
   "execution_count": 8,
   "metadata": {},
   "outputs": [
    {
     "name": "stdout",
     "output_type": "stream",
     "text": [
      "2\n",
      "6\n"
     ]
    }
   ],
   "source": [
    "#5Q\n",
    "import random\n",
    "a=[1,2,3,4,5,6,7]\n",
    "b=range(0,9)\n",
    "print(random.choice(a))\n",
    "print (random.choice(b))"
   ]
  },
  {
   "cell_type": "code",
   "execution_count": null,
   "metadata": {},
   "outputs": [],
   "source": []
  }
 ],
 "metadata": {
  "kernelspec": {
   "display_name": "Python 3",
   "language": "python",
   "name": "python3"
  },
  "language_info": {
   "codemirror_mode": {
    "name": "ipython",
    "version": 3
   },
   "file_extension": ".py",
   "mimetype": "text/x-python",
   "name": "python",
   "nbconvert_exporter": "python",
   "pygments_lexer": "ipython3",
   "version": "3.8.5"
  }
 },
 "nbformat": 4,
 "nbformat_minor": 4
}
