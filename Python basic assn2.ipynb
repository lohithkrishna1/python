{
 "cells": [
  {
   "cell_type": "code",
   "execution_count": 9,
   "metadata": {},
   "outputs": [
    {
     "data": {
      "text/plain": [
       "bool"
      ]
     },
     "execution_count": 9,
     "metadata": {},
     "output_type": "execute_result"
    }
   ],
   "source": [
    "#1Q\n",
    "True\n",
    "False\n",
    "type(True)\n",
    "type(False)"
   ]
  },
  {
   "cell_type": "code",
   "execution_count": null,
   "metadata": {},
   "outputs": [],
   "source": [
    "#2Q\n",
    "AND\n",
    "OR\n",
    "Not"
   ]
  },
  {
   "cell_type": "code",
   "execution_count": null,
   "metadata": {},
   "outputs": [],
   "source": [
    "#3Q\n",
    "   x         y              AND         OR        NOT\n",
    " True      True            True        True      False\n",
    " True      False           False       True      False\n",
    " False     True            False       True      True\n",
    " False     False           False       False     True\n"
   ]
  },
  {
   "cell_type": "code",
   "execution_count": null,
   "metadata": {},
   "outputs": [],
   "source": [
    "#4Q\n",
    "False\n",
    "False\n",
    "True\n",
    "False\n",
    "False\n",
    "True\n"
   ]
  },
  {
   "cell_type": "code",
   "execution_count": null,
   "metadata": {},
   "outputs": [],
   "source": [
    "#5Q\n",
    "<\n",
    ">\n",
    "<=\n",
    ">=\n",
    "!=\n",
    "=="
   ]
  },
  {
   "cell_type": "code",
   "execution_count": null,
   "metadata": {},
   "outputs": [],
   "source": [
    "#6Q\n",
    "assignment operator is used for assigning the value to the variable(Ex:a=10)\n",
    "equal to operator is to compare the values on both sides if they are equal or not(ex: 1==1 will be true,1==2 will be false)"
   ]
  },
  {
   "cell_type": "code",
   "execution_count": 4,
   "metadata": {},
   "outputs": [
    {
     "name": "stdout",
     "output_type": "stream",
     "text": [
      "ham\n",
      "spam\n"
     ]
    }
   ],
   "source": [
    "#7Q\n",
    "spam = 0\n",
    "if spam == 10:\n",
    "  print('eggs')\n",
    "  if spam > 5:\n",
    "   print('bacon')\n",
    "else:\n",
    "  print('ham')\n",
    "print('spam')\n",
    "\n"
   ]
  },
  {
   "cell_type": "code",
   "execution_count": 24,
   "metadata": {},
   "outputs": [
    {
     "name": "stdout",
     "output_type": "stream",
     "text": [
      "enter a number3\n",
      "Greetings\n"
     ]
    }
   ],
   "source": [
    "#8Q\n",
    "spam=int(input(\"enter a number\"))\n",
    "if spam==1:\n",
    "    print(\"Hello\") \n",
    "elif spam==2:\n",
    "    print(\"Howdy\")\n",
    "else:\n",
    "    print(\"Greetings\")"
   ]
  },
  {
   "cell_type": "markdown",
   "metadata": {},
   "source": [
    "#9\n",
    "control and c"
   ]
  },
  {
   "cell_type": "code",
   "execution_count": null,
   "metadata": {},
   "outputs": [],
   "source": [
    "#10Q\n",
    "break is used for termination of the loop and continue is used for termination of current iteration and resumes the loop for next iteration"
   ]
  },
  {
   "cell_type": "code",
   "execution_count": null,
   "metadata": {},
   "outputs": [],
   "source": [
    "#11Q\n",
    "range(10) the sequence start from 0 and continues till 9 (0,1,2,3,4,5,6,7,8,9) \n",
    "range(0,10) here we have two arguments 0,10 ,where it will start with first argument 0 and continues till 9(0,1,2,3,4,5,6,7,8,9) ,which before the last argument 10\n",
    "range(0,10,1) here the start and stop will be done according to the first two arguments ,where the third argument will be how much difference between first argument\n",
    "              here the difference is 1 between (0,10).so the output will be (0,1,2,3,4,5,6,7,8,9)"
   ]
  },
  {
   "cell_type": "code",
   "execution_count": 25,
   "metadata": {},
   "outputs": [
    {
     "name": "stdout",
     "output_type": "stream",
     "text": [
      "1 2 3 4 5 6 7 8 9 10 "
     ]
    }
   ],
   "source": [
    "#12Q\n",
    "for i in range (1,11):\n",
    "    print(i,end=\" \")"
   ]
  },
  {
   "cell_type": "code",
   "execution_count": 30,
   "metadata": {},
   "outputs": [
    {
     "name": "stdout",
     "output_type": "stream",
     "text": [
      "1 2 3 4 5 6 7 8 9 10 "
     ]
    }
   ],
   "source": [
    "#12Q\n",
    "i=1\n",
    "while (i<11):\n",
    "    print(i,end=\" \")\n",
    "    i=i+1"
   ]
  },
  {
   "cell_type": "code",
   "execution_count": null,
   "metadata": {},
   "outputs": [],
   "source": [
    "#13Q\n",
    "spam.bacon()"
   ]
  }
 ],
 "metadata": {
  "kernelspec": {
   "display_name": "Python 3",
   "language": "python",
   "name": "python3"
  },
  "language_info": {
   "codemirror_mode": {
    "name": "ipython",
    "version": 3
   },
   "file_extension": ".py",
   "mimetype": "text/x-python",
   "name": "python",
   "nbconvert_exporter": "python",
   "pygments_lexer": "ipython3",
   "version": "3.8.5"
  }
 },
 "nbformat": 4,
 "nbformat_minor": 4
}
